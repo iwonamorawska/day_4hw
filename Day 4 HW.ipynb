{
 "cells": [
  {
   "cell_type": "markdown",
   "id": "88f8f0f5",
   "metadata": {},
   "source": [
    "# Exercise 1 - Turn the shopping cart program from yesterday into an object-oriented program\n",
    "The comments in the cell below are there as a guide for thinking about the problem. However, if you feel a different way is best for you and your own thought process, please do what feels best for you by all means."
   ]
  },
  {
   "cell_type": "code",
   "execution_count": 13,
   "id": "f87ef419",
   "metadata": {},
   "outputs": [
    {
     "name": "stdout",
     "output_type": "stream",
     "text": [
      "What do you want to do to your grocery cart?(add/delete/show/quit)add\n",
      "What would you like to add to your grocery list?milk\n",
      "['milk']\n",
      "What do you want to do to your grocery cart?(add/delete/show/quit)add\n",
      "What would you like to add to your grocery list?bread\n",
      "['milk', 'bread']\n",
      "What do you want to do to your grocery cart?(add/delete/show/quit)delete\n",
      "What would you like to delete from your grocery list?milk\n",
      "['bread']\n",
      "What do you want to do to your grocery cart?(add/delete/show/quit)show\n",
      "['bread']\n",
      "What do you want to do to your grocery cart?(add/delete/show/quit)quit\n",
      "['bread']\n",
      "What do you want to do to your grocery cart?(add/delete/show/quit)quit\n",
      "['bread']\n",
      "What do you want to do to your grocery cart?(add/delete/show/quit)quit\n",
      "['bread']\n",
      "What do you want to do to your grocery cart?(add/delete/show/quit)quit\n",
      "['bread']\n"
     ]
    },
    {
     "ename": "KeyboardInterrupt",
     "evalue": "Interrupted by user",
     "output_type": "error",
     "traceback": [
      "\u001b[1;31m---------------------------------------------------------------------------\u001b[0m",
      "\u001b[1;31mKeyboardInterrupt\u001b[0m                         Traceback (most recent call last)",
      "\u001b[1;32m<ipython-input-13-aaf1645d9acf>\u001b[0m in \u001b[0;36m<module>\u001b[1;34m\u001b[0m\n\u001b[0;32m     11\u001b[0m \u001b[0moptions\u001b[0m\u001b[1;33m=\u001b[0m\u001b[1;32mTrue\u001b[0m\u001b[1;33m\u001b[0m\u001b[1;33m\u001b[0m\u001b[0m\n\u001b[0;32m     12\u001b[0m \u001b[1;32mwhile\u001b[0m \u001b[0moptions\u001b[0m\u001b[1;33m!=\u001b[0m\u001b[1;34m'quit'\u001b[0m\u001b[1;33m:\u001b[0m\u001b[1;33m\u001b[0m\u001b[1;33m\u001b[0m\u001b[0m\n\u001b[1;32m---> 13\u001b[1;33m     \u001b[0moptions\u001b[0m\u001b[1;33m=\u001b[0m\u001b[0minput\u001b[0m\u001b[1;33m(\u001b[0m\u001b[1;34m\"What do you want to do to your grocery cart?(add/delete/show/quit)\"\u001b[0m\u001b[1;33m)\u001b[0m\u001b[1;33m\u001b[0m\u001b[1;33m\u001b[0m\u001b[0m\n\u001b[0m\u001b[0;32m     14\u001b[0m     \u001b[1;32mif\u001b[0m \u001b[0moptions\u001b[0m\u001b[1;33m==\u001b[0m\u001b[1;34m'add'\u001b[0m\u001b[1;33m:\u001b[0m\u001b[1;33m\u001b[0m\u001b[1;33m\u001b[0m\u001b[0m\n\u001b[0;32m     15\u001b[0m         \u001b[0ml\u001b[0m\u001b[1;33m=\u001b[0m\u001b[0minput\u001b[0m\u001b[1;33m(\u001b[0m\u001b[1;34m\"What would you like to add to your grocery list?\"\u001b[0m\u001b[1;33m)\u001b[0m\u001b[1;33m\u001b[0m\u001b[1;33m\u001b[0m\u001b[0m\n",
      "\u001b[1;32m~\\anaconda3\\lib\\site-packages\\ipykernel\\kernelbase.py\u001b[0m in \u001b[0;36mraw_input\u001b[1;34m(self, prompt)\u001b[0m\n\u001b[0;32m    858\u001b[0m                 \u001b[1;34m\"raw_input was called, but this frontend does not support input requests.\"\u001b[0m\u001b[1;33m\u001b[0m\u001b[1;33m\u001b[0m\u001b[0m\n\u001b[0;32m    859\u001b[0m             )\n\u001b[1;32m--> 860\u001b[1;33m         return self._input_request(str(prompt),\n\u001b[0m\u001b[0;32m    861\u001b[0m             \u001b[0mself\u001b[0m\u001b[1;33m.\u001b[0m\u001b[0m_parent_ident\u001b[0m\u001b[1;33m,\u001b[0m\u001b[1;33m\u001b[0m\u001b[1;33m\u001b[0m\u001b[0m\n\u001b[0;32m    862\u001b[0m             \u001b[0mself\u001b[0m\u001b[1;33m.\u001b[0m\u001b[0m_parent_header\u001b[0m\u001b[1;33m,\u001b[0m\u001b[1;33m\u001b[0m\u001b[1;33m\u001b[0m\u001b[0m\n",
      "\u001b[1;32m~\\anaconda3\\lib\\site-packages\\ipykernel\\kernelbase.py\u001b[0m in \u001b[0;36m_input_request\u001b[1;34m(self, prompt, ident, parent, password)\u001b[0m\n\u001b[0;32m    902\u001b[0m             \u001b[1;32mexcept\u001b[0m \u001b[0mKeyboardInterrupt\u001b[0m\u001b[1;33m:\u001b[0m\u001b[1;33m\u001b[0m\u001b[1;33m\u001b[0m\u001b[0m\n\u001b[0;32m    903\u001b[0m                 \u001b[1;31m# re-raise KeyboardInterrupt, to truncate traceback\u001b[0m\u001b[1;33m\u001b[0m\u001b[1;33m\u001b[0m\u001b[1;33m\u001b[0m\u001b[0m\n\u001b[1;32m--> 904\u001b[1;33m                 \u001b[1;32mraise\u001b[0m \u001b[0mKeyboardInterrupt\u001b[0m\u001b[1;33m(\u001b[0m\u001b[1;34m\"Interrupted by user\"\u001b[0m\u001b[1;33m)\u001b[0m \u001b[1;32mfrom\u001b[0m \u001b[1;32mNone\u001b[0m\u001b[1;33m\u001b[0m\u001b[1;33m\u001b[0m\u001b[0m\n\u001b[0m\u001b[0;32m    905\u001b[0m             \u001b[1;32mexcept\u001b[0m \u001b[0mException\u001b[0m \u001b[1;32mas\u001b[0m \u001b[0me\u001b[0m\u001b[1;33m:\u001b[0m\u001b[1;33m\u001b[0m\u001b[1;33m\u001b[0m\u001b[0m\n\u001b[0;32m    906\u001b[0m                 \u001b[0mself\u001b[0m\u001b[1;33m.\u001b[0m\u001b[0mlog\u001b[0m\u001b[1;33m.\u001b[0m\u001b[0mwarning\u001b[0m\u001b[1;33m(\u001b[0m\u001b[1;34m\"Invalid Message:\"\u001b[0m\u001b[1;33m,\u001b[0m \u001b[0mexc_info\u001b[0m\u001b[1;33m=\u001b[0m\u001b[1;32mTrue\u001b[0m\u001b[1;33m)\u001b[0m\u001b[1;33m\u001b[0m\u001b[1;33m\u001b[0m\u001b[0m\n",
      "\u001b[1;31mKeyboardInterrupt\u001b[0m: Interrupted by user"
     ]
    }
   ],
   "source": [
    "class Cart():\n",
    "    def __init__(self):\n",
    "        self.l=[]\n",
    "    def add_list(self, a):\n",
    "        return self.l.append(a)\n",
    "    def remove_list(self, r):\n",
    "        self.l.remove(r)\n",
    "    def show_list(self):\n",
    "        return (self.l)\n",
    "grocery_list= Cart()\n",
    "options=True\n",
    "while options!='quit':\n",
    "    options=input(\"What do you want to do to your grocery cart?(add/delete/show/quit)\")\n",
    "    if options=='add':\n",
    "        l=input(\"What would you like to add to your grocery list?\")\n",
    "        grocery_list.add_list(l)\n",
    "        print(grocery_list.show_list())\n",
    "    elif options=='delete':\n",
    "        l=input(\"What would you like to delete from your grocery list?\")\n",
    "        grocery_list.remove_list(l)\n",
    "        print(grocery_list.show_list())\n",
    "    elif options=='show':\n",
    "        print(grocery_list.show_list())\n",
    "    else options=='quit':\n",
    "        options=False\n",
    "print()"
   ]
  },
  {
   "cell_type": "markdown",
   "id": "a27c84d5",
   "metadata": {},
   "source": [
    "# Exercise 2 - \n",
    "Write a Python class which has two methods get_String and print_String. get_String accept a string from the user and print_String print the string in upper case"
   ]
  },
  {
   "cell_type": "code",
   "execution_count": 14,
   "id": "b5be624b",
   "metadata": {},
   "outputs": [
    {
     "name": "stdout",
     "output_type": "stream",
     "text": [
      "Yell out your favorite food: burrito\n",
      "BURRITO\n"
     ]
    }
   ],
   "source": [
    "class Strangs():\n",
    "    def __init__(self):\n",
    "        self.string=\" \"\n",
    "    def get_string(self):\n",
    "        self.string=input(\"Yell out your favorite food: \")\n",
    "    def print_string(self):\n",
    "        print(self.string.upper())\n",
    "string=Strangs()\n",
    "string.get_string()\n",
    "string.print_string()\n"
   ]
  },
  {
   "cell_type": "code",
   "execution_count": null,
   "id": "8240a29c",
   "metadata": {},
   "outputs": [],
   "source": []
  }
 ],
 "metadata": {
  "kernelspec": {
   "display_name": "Python 3",
   "language": "python",
   "name": "python3"
  },
  "language_info": {
   "codemirror_mode": {
    "name": "ipython",
    "version": 3
   },
   "file_extension": ".py",
   "mimetype": "text/x-python",
   "name": "python",
   "nbconvert_exporter": "python",
   "pygments_lexer": "ipython3",
   "version": "3.8.8"
  }
 },
 "nbformat": 4,
 "nbformat_minor": 5
}
